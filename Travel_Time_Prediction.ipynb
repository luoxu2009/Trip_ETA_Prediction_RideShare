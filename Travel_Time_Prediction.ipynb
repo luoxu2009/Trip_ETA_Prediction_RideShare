{
 "cells": [
  {
   "cell_type": "markdown",
   "id": "6b889ac9-a0cc-410e-8b89-afa7e83e88f2",
   "metadata": {},
   "source": [
    "## Travel Time Prediction\n",
    "Author: X.L <br>\n",
    "Date: 09/17/2022\n",
    "\n",
    "### Summary\n",
    "#### In this data challenge, I have trained and built a XGB regression model that predicts travel time for rideshare applications given only limited information about the trip: starting and ending location coordinates and departure timestamp. The model achieved 25% lower RMSE than the benchmark Linear Regression model with a RMSE of around 300 secs on a hold-out validate dataset.\n",
    "#### While the accuracy of the model can definitely be improved given more features and more time for the project, I believe the results are already showing good promise for real application purposes and some of the methodologies employed here are transferable when solving real problems at Lyft.\n"
   ]
  },
  {
   "cell_type": "code",
   "execution_count": 1,
   "id": "10d665d2-c1d9-40cd-b14a-a61a69bfd7d0",
   "metadata": {},
   "outputs": [],
   "source": [
    "import warnings\n",
    "warnings.filterwarnings('ignore')\n",
    "\n",
    "import numpy as np\n",
    "import pandas as pd\n",
    "import datetime\n",
    "import matplotlib.pyplot as plt\n",
    "import seaborn as sns\n",
    "%matplotlib inline\n",
    "\n",
    "from sklearn.linear_model import LinearRegression, Ridge, Lasso\n",
    "from sklearn.svm import SVR\n",
    "from sklearn.ensemble import RandomForestRegressor\n",
    "from xgboost import XGBRegressor\n",
    "from sklearn.model_selection import train_test_split\n",
    "from sklearn.metrics import mean_squared_error"
   ]
  },
  {
   "cell_type": "markdown",
   "id": "172402bc-5ff5-4706-9433-88d03af96a57",
   "metadata": {},
   "source": [
    "### Step 0: Data Import"
   ]
  },
  {
   "cell_type": "code",
   "execution_count": 2,
   "id": "a355792f-8e95-4880-bfce-d004c60427f7",
   "metadata": {},
   "outputs": [
    {
     "name": "stdout",
     "output_type": "stream",
     "text": [
      "training dataset shape: (12089610, 7)\n",
      "training dataset shape: (1868995, 6)\n"
     ]
    }
   ],
   "source": [
    "train_df = pd.read_csv('train.csv')\n",
    "#train_df.head()\n",
    "\n",
    "test_df = pd.read_csv('test.csv')\n",
    "#test_df.head()\n",
    "\n",
    "print(f'training dataset shape: {train_df.shape}')\n",
    "print(f'training dataset shape: {test_df.shape}')\n",
    "\n",
    "combined = [train_df, test_df]"
   ]
  },
  {
   "cell_type": "markdown",
   "id": "ed439b6a-7c2d-466c-9d5a-f7e52db26c3a",
   "metadata": {},
   "source": [
    "### Step 1: Data Exploration and Cleaning"
   ]
  },
  {
   "cell_type": "code",
   "execution_count": 3,
   "id": "13ba8d8a-cd78-4b96-90a8-ff5208af0a34",
   "metadata": {},
   "outputs": [
    {
     "name": "stdout",
     "output_type": "stream",
     "text": [
      "<class 'pandas.core.frame.DataFrame'>\n",
      "RangeIndex: 12089610 entries, 0 to 12089609\n",
      "Data columns (total 7 columns):\n",
      " #   Column           Dtype  \n",
      "---  ------           -----  \n",
      " 0   row_id           int64  \n",
      " 1   start_lng        float64\n",
      " 2   start_lat        float64\n",
      " 3   end_lng          float64\n",
      " 4   end_lat          float64\n",
      " 5   start_timestamp  int64  \n",
      " 6   duration         int64  \n",
      "dtypes: float64(4), int64(3)\n",
      "memory usage: 645.7 MB\n"
     ]
    }
   ],
   "source": [
    "train_df.info()"
   ]
  },
  {
   "cell_type": "code",
   "execution_count": 4,
   "id": "ca2d88d2-42a1-4535-a9b8-89644e4034c4",
   "metadata": {},
   "outputs": [
    {
     "data": {
      "text/html": [
       "<div>\n",
       "<style scoped>\n",
       "    .dataframe tbody tr th:only-of-type {\n",
       "        vertical-align: middle;\n",
       "    }\n",
       "\n",
       "    .dataframe tbody tr th {\n",
       "        vertical-align: top;\n",
       "    }\n",
       "\n",
       "    .dataframe thead th {\n",
       "        text-align: right;\n",
       "    }\n",
       "</style>\n",
       "<table border=\"1\" class=\"dataframe\">\n",
       "  <thead>\n",
       "    <tr style=\"text-align: right;\">\n",
       "      <th></th>\n",
       "      <th>count</th>\n",
       "      <th>mean</th>\n",
       "      <th>std</th>\n",
       "      <th>min</th>\n",
       "      <th>25%</th>\n",
       "      <th>50%</th>\n",
       "      <th>75%</th>\n",
       "      <th>max</th>\n",
       "    </tr>\n",
       "  </thead>\n",
       "  <tbody>\n",
       "    <tr>\n",
       "      <th>row_id</th>\n",
       "      <td>12089610.0</td>\n",
       "      <td>6.044804e+06</td>\n",
       "      <td>3.489970e+06</td>\n",
       "      <td>0.000000e+00</td>\n",
       "      <td>3.022402e+06</td>\n",
       "      <td>6.044804e+06</td>\n",
       "      <td>9.067207e+06</td>\n",
       "      <td>1.208961e+07</td>\n",
       "    </tr>\n",
       "    <tr>\n",
       "      <th>start_lng</th>\n",
       "      <td>12089610.0</td>\n",
       "      <td>-7.397391e+01</td>\n",
       "      <td>3.791707e-02</td>\n",
       "      <td>-7.451462e+01</td>\n",
       "      <td>-7.399212e+01</td>\n",
       "      <td>-7.398199e+01</td>\n",
       "      <td>-7.396779e+01</td>\n",
       "      <td>-7.341445e+01</td>\n",
       "    </tr>\n",
       "    <tr>\n",
       "      <th>start_lat</th>\n",
       "      <td>12089610.0</td>\n",
       "      <td>4.075057e+01</td>\n",
       "      <td>2.788033e-02</td>\n",
       "      <td>4.036892e+01</td>\n",
       "      <td>4.073687e+01</td>\n",
       "      <td>4.075344e+01</td>\n",
       "      <td>4.076780e+01</td>\n",
       "      <td>4.103142e+01</td>\n",
       "    </tr>\n",
       "    <tr>\n",
       "      <th>end_lng</th>\n",
       "      <td>12089610.0</td>\n",
       "      <td>-7.397364e+01</td>\n",
       "      <td>3.583265e-02</td>\n",
       "      <td>-7.451785e+01</td>\n",
       "      <td>-7.399148e+01</td>\n",
       "      <td>-7.398016e+01</td>\n",
       "      <td>-7.396357e+01</td>\n",
       "      <td>-7.341435e+01</td>\n",
       "    </tr>\n",
       "    <tr>\n",
       "      <th>end_lat</th>\n",
       "      <td>12089610.0</td>\n",
       "      <td>4.075133e+01</td>\n",
       "      <td>3.187935e-02</td>\n",
       "      <td>4.036887e+01</td>\n",
       "      <td>4.073541e+01</td>\n",
       "      <td>4.075396e+01</td>\n",
       "      <td>4.076889e+01</td>\n",
       "      <td>4.103151e+01</td>\n",
       "    </tr>\n",
       "    <tr>\n",
       "      <th>start_timestamp</th>\n",
       "      <td>12089610.0</td>\n",
       "      <td>1.432861e+09</td>\n",
       "      <td>7.543678e+06</td>\n",
       "      <td>1.420099e+09</td>\n",
       "      <td>1.426361e+09</td>\n",
       "      <td>1.432480e+09</td>\n",
       "      <td>1.439322e+09</td>\n",
       "      <td>1.446336e+09</td>\n",
       "    </tr>\n",
       "    <tr>\n",
       "      <th>duration</th>\n",
       "      <td>12089610.0</td>\n",
       "      <td>8.370984e+02</td>\n",
       "      <td>7.080951e+02</td>\n",
       "      <td>1.000000e+00</td>\n",
       "      <td>3.990000e+02</td>\n",
       "      <td>6.620000e+02</td>\n",
       "      <td>1.070000e+03</td>\n",
       "      <td>4.317800e+04</td>\n",
       "    </tr>\n",
       "  </tbody>\n",
       "</table>\n",
       "</div>"
      ],
      "text/plain": [
       "                      count          mean           std           min  \\\n",
       "row_id           12089610.0  6.044804e+06  3.489970e+06  0.000000e+00   \n",
       "start_lng        12089610.0 -7.397391e+01  3.791707e-02 -7.451462e+01   \n",
       "start_lat        12089610.0  4.075057e+01  2.788033e-02  4.036892e+01   \n",
       "end_lng          12089610.0 -7.397364e+01  3.583265e-02 -7.451785e+01   \n",
       "end_lat          12089610.0  4.075133e+01  3.187935e-02  4.036887e+01   \n",
       "start_timestamp  12089610.0  1.432861e+09  7.543678e+06  1.420099e+09   \n",
       "duration         12089610.0  8.370984e+02  7.080951e+02  1.000000e+00   \n",
       "\n",
       "                          25%           50%           75%           max  \n",
       "row_id           3.022402e+06  6.044804e+06  9.067207e+06  1.208961e+07  \n",
       "start_lng       -7.399212e+01 -7.398199e+01 -7.396779e+01 -7.341445e+01  \n",
       "start_lat        4.073687e+01  4.075344e+01  4.076780e+01  4.103142e+01  \n",
       "end_lng         -7.399148e+01 -7.398016e+01 -7.396357e+01 -7.341435e+01  \n",
       "end_lat          4.073541e+01  4.075396e+01  4.076889e+01  4.103151e+01  \n",
       "start_timestamp  1.426361e+09  1.432480e+09  1.439322e+09  1.446336e+09  \n",
       "duration         3.990000e+02  6.620000e+02  1.070000e+03  4.317800e+04  "
      ]
     },
     "execution_count": 4,
     "metadata": {},
     "output_type": "execute_result"
    }
   ],
   "source": [
    "# check feature distributions\n",
    "train_df.describe().T"
   ]
  },
  {
   "cell_type": "code",
   "execution_count": 5,
   "id": "5e7c8f8d-1197-4cb0-aaed-57aecb560069",
   "metadata": {},
   "outputs": [
    {
     "data": {
      "text/plain": [
       "row_id             0\n",
       "start_lng          0\n",
       "start_lat          0\n",
       "end_lng            0\n",
       "end_lat            0\n",
       "start_timestamp    0\n",
       "duration           0\n",
       "dtype: int64"
      ]
     },
     "execution_count": 5,
     "metadata": {},
     "output_type": "execute_result"
    }
   ],
   "source": [
    "# check for nulls in the data\n",
    "train_df.isnull().sum().T"
   ]
  },
  {
   "cell_type": "markdown",
   "id": "de591bca-25c2-495f-9d04-35f132f7c359",
   "metadata": {},
   "source": [
    "#### looks like there are no missing values we need to deal with and the start_lng, start_lat, end_lng, end_lat all have reasonable min and max values, so there are no needs to remove outliers for those features\n",
    "#### However, the duration data does show a min of 1 sec which seems not quite reasonable and max of > 40000 secs (or > 10 hours) which is also quite weird. So I will look at ways to remove outliers for duration "
   ]
  },
  {
   "cell_type": "code",
   "execution_count": 6,
   "id": "441e1be1-7723-4621-a68a-75253965ff09",
   "metadata": {},
   "outputs": [
    {
     "data": {
      "text/plain": [
       "count    1.208961e+07\n",
       "mean     6.459299e+00\n",
       "std      7.728929e-01\n",
       "min      0.000000e+00\n",
       "25%      5.988961e+00\n",
       "50%      6.495266e+00\n",
       "75%      6.975414e+00\n",
       "max      1.067309e+01\n",
       "Name: duration, dtype: float64"
      ]
     },
     "execution_count": 6,
     "metadata": {},
     "output_type": "execute_result"
    }
   ],
   "source": [
    "# Remove outliers for the 'duration' feature\n",
    "train_df['duration'].apply(lambda x: np.log(x)).describe().T"
   ]
  },
  {
   "cell_type": "code",
   "execution_count": 7,
   "id": "8e8eeda9-07d8-48de-aca4-d690162084f8",
   "metadata": {},
   "outputs": [
    {
     "name": "stdout",
     "output_type": "stream",
     "text": [
      "duration lower bound for outlier removal is estimated to be: 63.434000298123344\n",
      "duration upper bound for outlier removal is estimated to be: 6438.1724643633315\n"
     ]
    }
   ],
   "source": [
    "lower_bound = np.exp(6.46 - 3 * 0.77)\n",
    "upper_bound = np.exp(6.46 + 3 * 0.77)\n",
    "print(f'duration lower bound for outlier removal is estimated to be: {lower_bound}')\n",
    "print(f'duration upper bound for outlier removal is estimated to be: {upper_bound}')"
   ]
  },
  {
   "cell_type": "markdown",
   "id": "532a2dd5-19c9-4853-99ac-cad58f5f421b",
   "metadata": {},
   "source": [
    "#### Based on the above estimate, let's set the lower and upper bound for removing outliers of duration at 60 secs (1 min) and 7200 secs (2 hrs)`"
   ]
  },
  {
   "cell_type": "code",
   "execution_count": 8,
   "id": "4e09d06b-8fcc-4782-a8f7-b19b74b4157a",
   "metadata": {},
   "outputs": [],
   "source": [
    "## filtering the train_df in combined for durations within (60, 7200) secs.\n",
    "df = combined[0]\n",
    "combined[0] = df[(df['duration'] > 60) & (df['duration'] < 7200)]"
   ]
  },
  {
   "cell_type": "markdown",
   "id": "a8278cfe-8827-48bd-9e10-a93c31a84e27",
   "metadata": {},
   "source": [
    "### Step 2: Feature Engineering"
   ]
  },
  {
   "cell_type": "markdown",
   "id": "37637534-70b9-452f-a4d2-69c4e83c1714",
   "metadata": {},
   "source": [
    "#### Create Time Features"
   ]
  },
  {
   "cell_type": "code",
   "execution_count": 9,
   "id": "64939834-a1d9-42d0-a1a5-ac94502600b8",
   "metadata": {},
   "outputs": [],
   "source": [
    "## convert the unix timestamp feature to date_time format\n",
    "def convert_timestamp_to_datetime(df):\n",
    "    df['start_datetime'] = pd.to_datetime(df['start_timestamp'], unit='s')\n",
    "    \n",
    "for df in combined:\n",
    "    convert_timestamp_to_datetime(df)"
   ]
  },
  {
   "cell_type": "code",
   "execution_count": 10,
   "id": "5021b7ce-3088-4572-831d-ac0f37a9ce7e",
   "metadata": {},
   "outputs": [],
   "source": [
    "# create hour of day, day of week, day of month features\n",
    "for df in combined:\n",
    "    df['start_date'] = df['start_datetime'].dt.date\n",
    "    df['hour'] = df['start_datetime'].dt.hour\n",
    "    df['day_of_week'] = df['start_datetime'].dt.weekday + 1\n",
    "    df['day_of_month'] = df['start_datetime'].dt.day\n",
    "    df['month_of_year'] = df['start_datetime'].dt.month\n",
    "    df.drop('start_timestamp', axis=1, inplace=True)\n",
    "    df.drop('start_datetime', axis=1, inplace=True)"
   ]
  },
  {
   "cell_type": "code",
   "execution_count": 11,
   "id": "0616e0f1-412a-438c-bfca-bcf66a0259d1",
   "metadata": {},
   "outputs": [],
   "source": [
    "## create a holiday feature column\n",
    "holidays2015 = {\n",
    "    \"New Years Day\": datetime.datetime(2015,1,1).date(),\n",
    "    \"Martin Luther King Day\": datetime.datetime(2015,1,19).date(),\n",
    "    \"Easter Saturday\": datetime.datetime(2015,4,4).date(),\n",
    "    \"Easter Sunday\": datetime.datetime(2015,4,5).date(),\n",
    "    \"Memorial Sunday\": datetime.datetime(2015,5,24).date(),\n",
    "    \"Memorial Day\": datetime.datetime(2015,5,25).date(),\n",
    "    \"Independence Pre-day\": datetime.datetime(2015,7,3).date(),\n",
    "    \"Independence Day\": datetime.datetime(2015,7,4).date(),\n",
    "    \"Independence Post-day\": datetime.datetime(2015,7,5).date(),\n",
    "    \"Labor Day\": datetime.datetime(2015,9,7).date(),\n",
    "    \"Thanksgiving Day\": datetime.datetime(2015,11,26).date(),\n",
    "    \"Thanksgiving Post-day\": datetime.datetime(2015,11,27).date(),\n",
    "    \"Thanksgiving Post-post-day\": datetime.datetime(2015,11,28).date(),\n",
    "    \"Christmas Eve\": datetime.datetime(2015,12,24).date(),\n",
    "    \"Christmas Day\": datetime.datetime(2015,12,25).date(),\n",
    "    \"Christmas Post-day\": datetime.datetime(2015,12,26).date(),\n",
    "    \"New Years Eve\": datetime.datetime(2015,12,31).date(),\n",
    "}\n",
    "\n",
    "for df in combined:\n",
    "    df['holiday'] = 0\n",
    "    for holiday in holidays2015.values():\n",
    "        df.loc[df['start_date'] == holiday, 'holiday'] = 1\n"
   ]
  },
  {
   "cell_type": "markdown",
   "id": "17a4d703-2a82-4457-8a2b-7ec7abe00e60",
   "metadata": {},
   "source": [
    "#### Create Distance Features"
   ]
  },
  {
   "cell_type": "code",
   "execution_count": 12,
   "id": "9556c5ac-3d01-4758-b03e-99c92a6dd84e",
   "metadata": {},
   "outputs": [
    {
     "data": {
      "text/plain": [
       "(13834856, 13)"
      ]
     },
     "execution_count": 12,
     "metadata": {},
     "output_type": "execute_result"
    }
   ],
   "source": [
    "## compute haversine distances from coords\n",
    "import math\n",
    "\n",
    "def haversine(lat1, lon1, lat2, lon2):\n",
    "     \n",
    "    # distance between latitudes\n",
    "    # and longitudes\n",
    "    dLat = (lat2 - lat1) * math.pi / 180.0\n",
    "    dLon = (lon2 - lon1) * math.pi / 180.0\n",
    " \n",
    "    # convert to radians\n",
    "    lat1 = (lat1) * math.pi / 180.0\n",
    "    lat2 = (lat2) * math.pi / 180.0\n",
    " \n",
    "    # apply formulae\n",
    "    a = (pow(math.sin(dLat / 2), 2) +\n",
    "         pow(math.sin(dLon / 2), 2) *\n",
    "             math.cos(lat1) * math.cos(lat2));\n",
    "    rad = 6371\n",
    "    c = 2 * math.asin(math.sqrt(a))\n",
    "    return rad * c\n",
    "\n",
    "for df in combined:\n",
    "    df['distance'] = df.apply(lambda x: haversine(x['start_lat'], x['start_lng'], x['end_lat'], x['end_lng']), axis=1)\n",
    "\n",
    "\n",
    "# filter for distance > 0 miles\n",
    "for i, df in enumerate(combined):\n",
    "    combined[i] = df[df['distance'] > 0]\n",
    "\n",
    "combined_df = pd.concat(combined)\n",
    "#combined_df.head()\n",
    "\n",
    "combined_df.shape"
   ]
  },
  {
   "cell_type": "code",
   "execution_count": 38,
   "id": "98a2db98-a0fa-4991-b817-cfdd7565e530",
   "metadata": {},
   "outputs": [
    {
     "name": "stdout",
     "output_type": "stream",
     "text": [
      "The range of dates availabe in the training and testing data are: 2015-01-01 - 2015-12-19\n"
     ]
    }
   ],
   "source": [
    "print(f\"The range of dates availabe in the training and testing data are: {combined_df['start_date'].min()} - {combined_df['start_date'].max()}\")"
   ]
  },
  {
   "cell_type": "markdown",
   "id": "267e5671-23f1-4ddc-9ab8-61de033eec4e",
   "metadata": {},
   "source": [
    "#### （Scrapped）Create Neighborhood Feature from OpenStreetMap (NOTE: API call took too long)"
   ]
  },
  {
   "cell_type": "code",
   "execution_count": 13,
   "id": "89701408-a953-400b-918b-65339fa5842a",
   "metadata": {},
   "outputs": [],
   "source": [
    "# import requests\n",
    "# def get_neighborhood_info(lat, lng):\n",
    "#     # use openstreetmap to get address information from location latitude and longitude\n",
    "#     url = \"http://nominatim.openstreetmap.org/reverse?format=json&lat={lat}&lon={lng}&addressdetails=1\"\n",
    "#     response = requests.get(url.format(lat=lat, lng=lng))\n",
    "#     try:\n",
    "#         nh =response.json()['address']['neighbourhood']\n",
    "#     except:\n",
    "#         nh = None\n",
    "#     return nh\n",
    "    \n",
    "\n",
    "# df_sample = combined_df.sample(frac=0.0001)[:500]\n",
    "# df_sample['neighborhood'] = df_sample.apply(lambda x: get_neighborhood_info(x['start_lat'], x['start_lng']), axis=1)"
   ]
  },
  {
   "cell_type": "markdown",
   "id": "e95889e4-89fc-4724-afd1-0e012bb0e083",
   "metadata": {},
   "source": [
    "#### Use DBCAN to find location clusters"
   ]
  },
  {
   "cell_type": "code",
   "execution_count": 14,
   "id": "1df50ddf-c170-4e99-806b-efd1550a8de4",
   "metadata": {},
   "outputs": [],
   "source": [
    "# use DBSCAN to find location clusters\n",
    "from sklearn.cluster import DBSCAN\n",
    "from matplotlib.patches import Rectangle\n",
    "\n",
    "def find_cluster_boundaries(combined_df):\n",
    "    ## get all coords (both starting location and ending location) into one dataframe: all_coords\n",
    "    all_coords = pd.concat([combined_df[['start_lng', 'start_lat']].rename(columns={'start_lng': 'lng', 'start_lat': 'lat'}), \n",
    "                            combined_df[['end_lng', 'end_lat']].rename(columns={'end_lng': 'lng', 'end_lat': 'lat'})], axis=0)\n",
    "    ## sample 1% for DBSCAN clustering\n",
    "    df_sample = all_coords.sample(frac=0.01, random_state=42).reset_index(drop=True)\n",
    "    ## fit DBSCAN on sampled data\n",
    "    DB = DBSCAN(eps=0.005, min_samples=2500).fit(df_sample)\n",
    "\n",
    "    print(f'number of clusters: {max(DB.labels_) + 1}')\n",
    "\n",
    "    df_sample['cluster_label']= DB.labels_\n",
    "    cluster_centers = df_sample.loc[DB.core_sample_indices_, :].groupby('cluster_label').agg(['mean', 'std']).reset_index()\n",
    "    cluster_centers = cluster_centers.T.reset_index(drop=True).T\n",
    "    cluster_centers.columns = ['cluster_label', 'lng_mean', 'lng_std', 'lat_mean', 'lat_std']\n",
    "    # creating the bounding window for each cluster found by DBSCAN\n",
    "    cluster_centers['lng_lb'] = cluster_centers['lng_mean'] - 3 * cluster_centers['lng_std']\n",
    "    cluster_centers['lng_ub'] = cluster_centers['lng_mean'] + 3 * cluster_centers['lng_std']\n",
    "    cluster_centers['lat_lb'] = cluster_centers['lat_mean'] - 3 * cluster_centers['lat_std']\n",
    "    cluster_centers['lat_ub'] = cluster_centers['lat_mean'] + 3 * cluster_centers['lat_std']\n",
    "\n",
    "    return df_sample, cluster_centers\n",
    "\n",
    "# df_sample, cluster_centers = find_cluster_boundaries(combined_df)\n",
    "\n",
    "def plot_locations_and_clusters(df_sample, cluster_centers):\n",
    "    fig, ax = plt.subplots(figsize=(12, 10))\n",
    "    plt.scatter(df_sample['lng'], df_sample['lat'], marker='o', alpha=0.05)\n",
    "    colors = ['red', 'green', 'orange']\n",
    "    for i in range(3):\n",
    "        plt.scatter(cluster_centers.loc[i, 'lng_mean'], cluster_centers.loc[i, 'lat_mean'], s=500, c=colors[i], label = 'cluster_' + str(i), marker='.')\n",
    "    plt.legend()\n",
    "    # plt.scatter(cluster_centers['lng_mean'], cluster_centers['lat_mean'], s=1000, c=cluster_centers['cluster_label'], marker='.')\n",
    "    # rect = plt.Rectangle((-74, 40.6), 1, 1, ls=\"--\", ec=\"c\", fc=\"none\")\n",
    "    # ax.add_patch(rect)\n",
    "    for i in range(3):\n",
    "        rect = Rectangle((cluster_centers.loc[i, 'lng_lb'], cluster_centers.loc[i, 'lat_lb']), \n",
    "                  6 * cluster_centers.loc[i, 'lng_std'], \n",
    "                  6 * cluster_centers.loc[i, 'lat_std'],\n",
    "                  ls=\"--\", ec=\"k\", fc=\"none\")\n",
    "        ax.add_patch(rect)\n",
    "    #plt.scatter(cluster_centers['lng_ub'], cluster_centers['lat_ub'], s=100, c=cluster_centers['cluster_label'], marker='D')\n",
    "    plt.xlabel('longitude')\n",
    "    plt.ylabel('latitude')\n",
    "    plt.title('New York Pick-up/Drop-off location Density and DBSCAN Cluster Centers')\n",
    "    plt.show()"
   ]
  },
  {
   "cell_type": "code",
   "execution_count": 15,
   "id": "7ac2633e-0d0f-4bf6-96d9-d0eb314c54a0",
   "metadata": {},
   "outputs": [
    {
     "name": "stdout",
     "output_type": "stream",
     "text": [
      "number of clusters: 3\n"
     ]
    },
    {
     "data": {
      "image/png": "[encoded data removed]",
      "text/plain": [
       "<Figure size 1200x1000 with 1 Axes>"
      ]
     },
     "metadata": {},
     "output_type": "display_data"
    }
   ],
   "source": [
    "df_sample, cluster_centers = find_cluster_boundaries(combined_df)\n",
    "plot_locations_and_clusters(df_sample, cluster_centers)"
   ]
  },
  {
   "cell_type": "markdown",
   "id": "f76314e0-a853-4a03-bde3-148f7aef51d7",
   "metadata": {},
   "source": [
    "#### looking at the graph, it appears to me that cluster_0 is bascially City Center, cluster_1 is LaGuardia Airport and cluster_2 is JFK Airport \n",
    "#### Note: because of the training data is too big for DBSCAN clustering, I sampled 1% from all combined data for this clustering. To assign clusters to all data, here is my approach: \n",
    "1. I have created a few rectangles around the cluster centers (+/- 3 standard deviations of each cluster) <br>\n",
    "2. for the raw data, will create two new features marking whether the starting and ending locations are in each of the above 3 clusters by checking whether the coords fall into those rectangles, if not, it will be assigned 'other' for cluster labels. <br>"
   ]
  },
  {
   "cell_type": "code",
   "execution_count": 16,
   "id": "1261951b-5227-4620-97a4-ed9eefaa7dce",
   "metadata": {},
   "outputs": [],
   "source": [
    "train_df = combined[0].sample(frac=0.01, random_state=42).reset_index(drop=True)"
   ]
  },
  {
   "cell_type": "code",
   "execution_count": 17,
   "id": "b494abbf-f074-4708-9f90-411d0806c4a0",
   "metadata": {},
   "outputs": [],
   "source": [
    "# create cluster_name given latitidue and longitude and a datafrom with cluster bounderies.\n",
    "def assign_geolocation_cluster(lat, lng, cluster_centers):\n",
    "    cluster_names = {0: 'City_Center', 1: 'LaGuardia_Airport', 2: 'JFK_Airport'}\n",
    "    \n",
    "    for i in range(len(cluster_centers)):\n",
    "        if (cluster_centers.loc[i, 'lng_lb'] <= lng <= cluster_centers.loc[i, 'lng_ub']) & \\\n",
    "            (cluster_centers.loc[i, 'lat_lb'] <= lat <= cluster_centers.loc[i, 'lat_ub']):\n",
    "                return cluster_names[i]\n",
    "    \n",
    "    return 'Other'\n",
    "\n",
    "# perform one-hot-encoding for the location cluster features:\n",
    "def create_one_hot_encoded_loc_clusters(train_df):\n",
    "    for loc_type in ('start', 'end'):\n",
    "        for location in train_df[loc_type + '_location_cluster'].unique():\n",
    "            if location != 'Other':\n",
    "                train_df[loc_type + '_' + location] = 0\n",
    "                train_df.loc[train_df[loc_type + '_location_cluster']==location, loc_type + '_' + location] = 1\n",
    "        \n",
    "        train_df = train_df.drop(loc_type + '_location_cluster', axis=1)\n",
    "        \n",
    "    return train_df\n",
    "\n",
    "# create one-hot-encoded location cluster features.\n",
    "def create_location_cluster_features(df, cluster_centers):\n",
    "    for loc_type in ('start', 'end'):\n",
    "        df[loc_type + '_location_cluster'] = df.apply(lambda x: assign_geolocation_cluster(x[loc_type + '_lat'], x[loc_type + '_lng'], cluster_centers), axis=1)\n",
    "        \n",
    "    df = create_one_hot_encoded_loc_clusters(df)\n",
    "    return df"
   ]
  },
  {
   "cell_type": "code",
   "execution_count": 18,
   "id": "d0147c3a-42eb-47f9-a870-113219db44c9",
   "metadata": {},
   "outputs": [],
   "source": [
    "train_df = create_location_cluster_features(train_df, cluster_centers)"
   ]
  },
  {
   "cell_type": "code",
   "execution_count": 19,
   "id": "0889f03a-23e4-4b3b-a1b8-21ca36fc965e",
   "metadata": {},
   "outputs": [
    {
     "data": {
      "text/html": [
       "<div>\n",
       "<style scoped>\n",
       "    .dataframe tbody tr th:only-of-type {\n",
       "        vertical-align: middle;\n",
       "    }\n",
       "\n",
       "    .dataframe tbody tr th {\n",
       "        vertical-align: top;\n",
       "    }\n",
       "\n",
       "    .dataframe thead th {\n",
       "        text-align: right;\n",
       "    }\n",
       "</style>\n",
       "<table border=\"1\" class=\"dataframe\">\n",
       "  <thead>\n",
       "    <tr style=\"text-align: right;\">\n",
       "      <th></th>\n",
       "      <th>row_id</th>\n",
       "      <th>start_lng</th>\n",
       "      <th>start_lat</th>\n",
       "      <th>end_lng</th>\n",
       "      <th>end_lat</th>\n",
       "      <th>duration</th>\n",
       "      <th>start_date</th>\n",
       "      <th>hour</th>\n",
       "      <th>day_of_week</th>\n",
       "      <th>day_of_month</th>\n",
       "      <th>month_of_year</th>\n",
       "      <th>holiday</th>\n",
       "      <th>distance</th>\n",
       "      <th>start_City_Center</th>\n",
       "      <th>start_LaGuardia_Airport</th>\n",
       "      <th>start_JFK_Airport</th>\n",
       "      <th>end_City_Center</th>\n",
       "      <th>end_LaGuardia_Airport</th>\n",
       "      <th>end_JFK_Airport</th>\n",
       "    </tr>\n",
       "  </thead>\n",
       "  <tbody>\n",
       "    <tr>\n",
       "      <th>0</th>\n",
       "      <td>12006525</td>\n",
       "      <td>-73.985008</td>\n",
       "      <td>40.745682</td>\n",
       "      <td>-73.974487</td>\n",
       "      <td>40.754822</td>\n",
       "      <td>719</td>\n",
       "      <td>2015-10-29</td>\n",
       "      <td>20</td>\n",
       "      <td>4</td>\n",
       "      <td>29</td>\n",
       "      <td>10</td>\n",
       "      <td>0</td>\n",
       "      <td>1.348467</td>\n",
       "      <td>1</td>\n",
       "      <td>0</td>\n",
       "      <td>0</td>\n",
       "      <td>1</td>\n",
       "      <td>0</td>\n",
       "      <td>0</td>\n",
       "    </tr>\n",
       "    <tr>\n",
       "      <th>1</th>\n",
       "      <td>94476</td>\n",
       "      <td>-73.962151</td>\n",
       "      <td>40.766800</td>\n",
       "      <td>-73.950943</td>\n",
       "      <td>40.772488</td>\n",
       "      <td>438</td>\n",
       "      <td>2015-01-26</td>\n",
       "      <td>20</td>\n",
       "      <td>1</td>\n",
       "      <td>26</td>\n",
       "      <td>1</td>\n",
       "      <td>0</td>\n",
       "      <td>1.136172</td>\n",
       "      <td>1</td>\n",
       "      <td>0</td>\n",
       "      <td>0</td>\n",
       "      <td>1</td>\n",
       "      <td>0</td>\n",
       "      <td>0</td>\n",
       "    </tr>\n",
       "    <tr>\n",
       "      <th>2</th>\n",
       "      <td>1322864</td>\n",
       "      <td>-73.994621</td>\n",
       "      <td>40.755539</td>\n",
       "      <td>-74.003456</td>\n",
       "      <td>40.743553</td>\n",
       "      <td>240</td>\n",
       "      <td>2015-01-27</td>\n",
       "      <td>1</td>\n",
       "      <td>2</td>\n",
       "      <td>27</td>\n",
       "      <td>1</td>\n",
       "      <td>0</td>\n",
       "      <td>1.526501</td>\n",
       "      <td>1</td>\n",
       "      <td>0</td>\n",
       "      <td>0</td>\n",
       "      <td>1</td>\n",
       "      <td>0</td>\n",
       "      <td>0</td>\n",
       "    </tr>\n",
       "    <tr>\n",
       "      <th>3</th>\n",
       "      <td>5437167</td>\n",
       "      <td>-73.947701</td>\n",
       "      <td>40.775051</td>\n",
       "      <td>-73.975159</td>\n",
       "      <td>40.760151</td>\n",
       "      <td>1041</td>\n",
       "      <td>2015-04-24</td>\n",
       "      <td>22</td>\n",
       "      <td>5</td>\n",
       "      <td>24</td>\n",
       "      <td>4</td>\n",
       "      <td>0</td>\n",
       "      <td>2.844660</td>\n",
       "      <td>1</td>\n",
       "      <td>0</td>\n",
       "      <td>0</td>\n",
       "      <td>1</td>\n",
       "      <td>0</td>\n",
       "      <td>0</td>\n",
       "    </tr>\n",
       "    <tr>\n",
       "      <th>4</th>\n",
       "      <td>11904192</td>\n",
       "      <td>-73.991142</td>\n",
       "      <td>40.755909</td>\n",
       "      <td>-73.990562</td>\n",
       "      <td>40.761791</td>\n",
       "      <td>205</td>\n",
       "      <td>2015-10-26</td>\n",
       "      <td>19</td>\n",
       "      <td>1</td>\n",
       "      <td>26</td>\n",
       "      <td>10</td>\n",
       "      <td>0</td>\n",
       "      <td>0.655870</td>\n",
       "      <td>1</td>\n",
       "      <td>0</td>\n",
       "      <td>0</td>\n",
       "      <td>1</td>\n",
       "      <td>0</td>\n",
       "      <td>0</td>\n",
       "    </tr>\n",
       "  </tbody>\n",
       "</table>\n",
       "</div>"
      ],
      "text/plain": [
       "     row_id  start_lng  start_lat    end_lng    end_lat  duration  start_date  \\\n",
       "0  12006525 -73.985008  40.745682 -73.974487  40.754822       719  2015-10-29   \n",
       "1     94476 -73.962151  40.766800 -73.950943  40.772488       438  2015-01-26   \n",
       "2   1322864 -73.994621  40.755539 -74.003456  40.743553       240  2015-01-27   \n",
       "3   5437167 -73.947701  40.775051 -73.975159  40.760151      1041  2015-04-24   \n",
       "4  11904192 -73.991142  40.755909 -73.990562  40.761791       205  2015-10-26   \n",
       "\n",
       "   hour  day_of_week  day_of_month  month_of_year  holiday  distance  \\\n",
       "0    20            4            29             10        0  1.348467   \n",
       "1    20            1            26              1        0  1.136172   \n",
       "2     1            2            27              1        0  1.526501   \n",
       "3    22            5            24              4        0  2.844660   \n",
       "4    19            1            26             10        0  0.655870   \n",
       "\n",
       "   start_City_Center  start_LaGuardia_Airport  start_JFK_Airport  \\\n",
       "0                  1                        0                  0   \n",
       "1                  1                        0                  0   \n",
       "2                  1                        0                  0   \n",
       "3                  1                        0                  0   \n",
       "4                  1                        0                  0   \n",
       "\n",
       "   end_City_Center  end_LaGuardia_Airport  end_JFK_Airport  \n",
       "0                1                      0                0  \n",
       "1                1                      0                0  \n",
       "2                1                      0                0  \n",
       "3                1                      0                0  \n",
       "4                1                      0                0  "
      ]
     },
     "execution_count": 19,
     "metadata": {},
     "output_type": "execute_result"
    }
   ],
   "source": [
    "train_df.head()"
   ]
  },
  {
   "cell_type": "markdown",
   "id": "85fa65a8-6536-47c9-962a-47dbaae5e0dd",
   "metadata": {},
   "source": [
    "#### Create Weather Features"
   ]
  },
  {
   "cell_type": "code",
   "execution_count": 20,
   "id": "b7aaf319-07eb-474c-8068-f3657ccedc75",
   "metadata": {},
   "outputs": [],
   "source": [
    "# Note that the weather data was downloaded from NOAA for NYC for the entire year of 2015\n",
    "def add_weather_features(df):\n",
    "    weather = pd.read_csv('nyc_2015_weather.csv')\n",
    "    weather = weather[['DATE', 'PRCP', 'SNOW', 'SNWD', 'TMAX', 'TMIN']]\n",
    "    #weather.describe().T\n",
    "\n",
    "    weather['hot_day'] = weather.apply(lambda x: int(x['TMAX'] > 90), axis=1)\n",
    "    weather['cold_day'] = weather.apply(lambda x: int(x['TMIN'] < 32), axis=1)\n",
    "    weather.head()\n",
    "\n",
    "    weather['DATE'] = weather['DATE'].apply(lambda x : datetime.datetime.strptime(x, '%Y-%m-%d').date())\n",
    "    #weather.info()\n",
    "\n",
    "    df = df.merge(weather, left_on='start_date', right_on='DATE', how='left')\n",
    "    #train_df.head()\n",
    "\n",
    "    df = df.drop(['DATE', 'TMAX', 'TMIN'], axis=1)\n",
    "    \n",
    "    return df"
   ]
  },
  {
   "cell_type": "code",
   "execution_count": 21,
   "id": "cad986cf-6c3b-4d7c-92fe-7d31d9f85ab7",
   "metadata": {},
   "outputs": [],
   "source": [
    "train_df = add_weather_features(train_df)"
   ]
  },
  {
   "cell_type": "markdown",
   "id": "a567c101-63af-4a47-9c9d-6527e015883f",
   "metadata": {},
   "source": [
    "### Step 3: Modeling"
   ]
  },
  {
   "cell_type": "markdown",
   "id": "f800892a-9b7d-45b4-ba2d-ddebb8136b85",
   "metadata": {},
   "source": [
    "#### Final Training Data"
   ]
  },
  {
   "cell_type": "code",
   "execution_count": 22,
   "id": "5d1b06d8-b0a5-41af-a890-59d104c9601e",
   "metadata": {},
   "outputs": [
    {
     "data": {
      "text/html": [
       "<div>\n",
       "<style scoped>\n",
       "    .dataframe tbody tr th:only-of-type {\n",
       "        vertical-align: middle;\n",
       "    }\n",
       "\n",
       "    .dataframe tbody tr th {\n",
       "        vertical-align: top;\n",
       "    }\n",
       "\n",
       "    .dataframe thead th {\n",
       "        text-align: right;\n",
       "    }\n",
       "</style>\n",
       "<table border=\"1\" class=\"dataframe\">\n",
       "  <thead>\n",
       "    <tr style=\"text-align: right;\">\n",
       "      <th></th>\n",
       "      <th>row_id</th>\n",
       "      <th>start_lng</th>\n",
       "      <th>start_lat</th>\n",
       "      <th>end_lng</th>\n",
       "      <th>end_lat</th>\n",
       "      <th>duration</th>\n",
       "      <th>start_date</th>\n",
       "      <th>hour</th>\n",
       "      <th>day_of_week</th>\n",
       "      <th>day_of_month</th>\n",
       "      <th>...</th>\n",
       "      <th>start_LaGuardia_Airport</th>\n",
       "      <th>start_JFK_Airport</th>\n",
       "      <th>end_City_Center</th>\n",
       "      <th>end_LaGuardia_Airport</th>\n",
       "      <th>end_JFK_Airport</th>\n",
       "      <th>PRCP</th>\n",
       "      <th>SNOW</th>\n",
       "      <th>SNWD</th>\n",
       "      <th>hot_day</th>\n",
       "      <th>cold_day</th>\n",
       "    </tr>\n",
       "  </thead>\n",
       "  <tbody>\n",
       "    <tr>\n",
       "      <th>0</th>\n",
       "      <td>12006525</td>\n",
       "      <td>-73.985008</td>\n",
       "      <td>40.745682</td>\n",
       "      <td>-73.974487</td>\n",
       "      <td>40.754822</td>\n",
       "      <td>719</td>\n",
       "      <td>2015-10-29</td>\n",
       "      <td>20</td>\n",
       "      <td>4</td>\n",
       "      <td>29</td>\n",
       "      <td>...</td>\n",
       "      <td>0</td>\n",
       "      <td>0</td>\n",
       "      <td>1</td>\n",
       "      <td>0</td>\n",
       "      <td>0</td>\n",
       "      <td>0.04</td>\n",
       "      <td>0.0</td>\n",
       "      <td>0.0</td>\n",
       "      <td>0</td>\n",
       "      <td>0</td>\n",
       "    </tr>\n",
       "    <tr>\n",
       "      <th>1</th>\n",
       "      <td>94476</td>\n",
       "      <td>-73.962151</td>\n",
       "      <td>40.766800</td>\n",
       "      <td>-73.950943</td>\n",
       "      <td>40.772488</td>\n",
       "      <td>438</td>\n",
       "      <td>2015-01-26</td>\n",
       "      <td>20</td>\n",
       "      <td>1</td>\n",
       "      <td>26</td>\n",
       "      <td>...</td>\n",
       "      <td>0</td>\n",
       "      <td>0</td>\n",
       "      <td>1</td>\n",
       "      <td>0</td>\n",
       "      <td>0</td>\n",
       "      <td>0.48</td>\n",
       "      <td>5.5</td>\n",
       "      <td>2.0</td>\n",
       "      <td>0</td>\n",
       "      <td>1</td>\n",
       "    </tr>\n",
       "    <tr>\n",
       "      <th>2</th>\n",
       "      <td>1322864</td>\n",
       "      <td>-73.994621</td>\n",
       "      <td>40.755539</td>\n",
       "      <td>-74.003456</td>\n",
       "      <td>40.743553</td>\n",
       "      <td>240</td>\n",
       "      <td>2015-01-27</td>\n",
       "      <td>1</td>\n",
       "      <td>2</td>\n",
       "      <td>27</td>\n",
       "      <td>...</td>\n",
       "      <td>0</td>\n",
       "      <td>0</td>\n",
       "      <td>1</td>\n",
       "      <td>0</td>\n",
       "      <td>0</td>\n",
       "      <td>0.36</td>\n",
       "      <td>4.3</td>\n",
       "      <td>7.9</td>\n",
       "      <td>0</td>\n",
       "      <td>1</td>\n",
       "    </tr>\n",
       "    <tr>\n",
       "      <th>3</th>\n",
       "      <td>5437167</td>\n",
       "      <td>-73.947701</td>\n",
       "      <td>40.775051</td>\n",
       "      <td>-73.975159</td>\n",
       "      <td>40.760151</td>\n",
       "      <td>1041</td>\n",
       "      <td>2015-04-24</td>\n",
       "      <td>22</td>\n",
       "      <td>5</td>\n",
       "      <td>24</td>\n",
       "      <td>...</td>\n",
       "      <td>0</td>\n",
       "      <td>0</td>\n",
       "      <td>1</td>\n",
       "      <td>0</td>\n",
       "      <td>0</td>\n",
       "      <td>0.00</td>\n",
       "      <td>0.0</td>\n",
       "      <td>0.0</td>\n",
       "      <td>0</td>\n",
       "      <td>0</td>\n",
       "    </tr>\n",
       "    <tr>\n",
       "      <th>4</th>\n",
       "      <td>11904192</td>\n",
       "      <td>-73.991142</td>\n",
       "      <td>40.755909</td>\n",
       "      <td>-73.990562</td>\n",
       "      <td>40.761791</td>\n",
       "      <td>205</td>\n",
       "      <td>2015-10-26</td>\n",
       "      <td>19</td>\n",
       "      <td>1</td>\n",
       "      <td>26</td>\n",
       "      <td>...</td>\n",
       "      <td>0</td>\n",
       "      <td>0</td>\n",
       "      <td>1</td>\n",
       "      <td>0</td>\n",
       "      <td>0</td>\n",
       "      <td>0.00</td>\n",
       "      <td>0.0</td>\n",
       "      <td>0.0</td>\n",
       "      <td>0</td>\n",
       "      <td>0</td>\n",
       "    </tr>\n",
       "  </tbody>\n",
       "</table>\n",
       "<p>5 rows × 24 columns</p>\n",
       "</div>"
      ],
      "text/plain": [
       "     row_id  start_lng  start_lat    end_lng    end_lat  duration  start_date  \\\n",
       "0  12006525 -73.985008  40.745682 -73.974487  40.754822       719  2015-10-29   \n",
       "1     94476 -73.962151  40.766800 -73.950943  40.772488       438  2015-01-26   \n",
       "2   1322864 -73.994621  40.755539 -74.003456  40.743553       240  2015-01-27   \n",
       "3   5437167 -73.947701  40.775051 -73.975159  40.760151      1041  2015-04-24   \n",
       "4  11904192 -73.991142  40.755909 -73.990562  40.761791       205  2015-10-26   \n",
       "\n",
       "   hour  day_of_week  day_of_month  ...  start_LaGuardia_Airport  \\\n",
       "0    20            4            29  ...                        0   \n",
       "1    20            1            26  ...                        0   \n",
       "2     1            2            27  ...                        0   \n",
       "3    22            5            24  ...                        0   \n",
       "4    19            1            26  ...                        0   \n",
       "\n",
       "   start_JFK_Airport  end_City_Center  end_LaGuardia_Airport  end_JFK_Airport  \\\n",
       "0                  0                1                      0                0   \n",
       "1                  0                1                      0                0   \n",
       "2                  0                1                      0                0   \n",
       "3                  0                1                      0                0   \n",
       "4                  0                1                      0                0   \n",
       "\n",
       "   PRCP  SNOW  SNWD  hot_day  cold_day  \n",
       "0  0.04   0.0   0.0        0         0  \n",
       "1  0.48   5.5   2.0        0         1  \n",
       "2  0.36   4.3   7.9        0         1  \n",
       "3  0.00   0.0   0.0        0         0  \n",
       "4  0.00   0.0   0.0        0         0  \n",
       "\n",
       "[5 rows x 24 columns]"
      ]
     },
     "execution_count": 22,
     "metadata": {},
     "output_type": "execute_result"
    }
   ],
   "source": [
    "train_df.head()"
   ]
  },
  {
   "cell_type": "markdown",
   "id": "3d4dd63d-1f1e-4c1d-8900-9387a2631aa6",
   "metadata": {},
   "source": [
    "#### Create Training and Validation data"
   ]
  },
  {
   "cell_type": "code",
   "execution_count": 23,
   "id": "838eaf72-551a-4f5a-b20f-fe60070e2227",
   "metadata": {},
   "outputs": [],
   "source": [
    "#train_df = combined[0].sample(frac=0.01)\n",
    "\n",
    "#train_df['start_date'] = train_df['start_date'].astype('category')\n",
    "X = train_df.drop(['row_id', 'duration', 'start_date'], axis=1)\n",
    "y = train_df['duration']\n",
    "X_train, X_val, y_train, y_val = train_test_split(X, y, test_size=0.2, random_state=42)"
   ]
  },
  {
   "cell_type": "markdown",
   "id": "e44167ad-cc98-4005-a7d8-3ca428ce6895",
   "metadata": {},
   "source": [
    "#### Explore different models for travel time predictions"
   ]
  },
  {
   "cell_type": "code",
   "execution_count": 26,
   "id": "dde4d0cb-8440-4e7f-ab8e-e96d44c70701",
   "metadata": {},
   "outputs": [],
   "source": [
    "def travel_time_regression(X_train, X_val, y_train, y_val, model_name):\n",
    "    RMSE = None\n",
    "    model = None\n",
    "    if model_name == 'Linear regression':\n",
    "        model = LinearRegression(normalize=True)\n",
    "        model.fit(X_train, y_train)\n",
    "        y_pred = model.predict(X_val)\n",
    "        \n",
    "        RMSE = np.sqrt(mean_squared_error(y_val, y_pred))\n",
    "        print(f'{model} model gives a RMSE of {RMSE} with {len(X_train)} training data points')\n",
    "        \n",
    "    elif model_name == 'Ridge regression':\n",
    "        model = Ridge(normalize=True, alpha=0.5)\n",
    "        model.fit(X_train, y_train)\n",
    "        y_pred = model.predict(X_val)\n",
    "        \n",
    "        RMSE = np.sqrt(mean_squared_error(y_val, y_pred))\n",
    "        print(f'{model} model gives a RMSE of {RMSE} with {len(X_train)} training data points')\n",
    "    \n",
    "    elif model_name == 'Lasso regression':\n",
    "        model = Lasso(alpha=0.1, normalize=True, max_iter=5000)\n",
    "        model.fit(X_train, y_train)\n",
    "        y_pred = model.predict(X_val)\n",
    "        \n",
    "        RMSE = np.sqrt(mean_squared_error(y_val, y_pred))\n",
    "        print(f'{model} model gives a RMSE of {RMSE} with {len(X_train)} training data points')\n",
    "    \n",
    "    elif model_name == 'SVR':\n",
    "        model = SVR()\n",
    "        model.fit(X_train, y_train)\n",
    "        y_pred = model.predict(X_val)\n",
    "        \n",
    "        RMSE = np.sqrt(mean_squared_error(y_val, y_pred))\n",
    "        print(f'{model} model gives a RMSE of {RMSE} with {len(X_train)} training data points')\n",
    "        \n",
    "    elif model_name == 'XGB regression':\n",
    "        model = XGBRegressor(max_depth=9, learning_rate=0.05, n_estimators=500, reg_lambda=0.5)\n",
    "        model.fit(X_train, y_train)\n",
    "        y_pred = model.predict(X_val)\n",
    "        \n",
    "        RMSE = np.sqrt(mean_squared_error(y_val, y_pred))\n",
    "        print(f'{model} model gives a RMSE of {RMSE} with {len(X_train)} training data points')\n",
    "        \n",
    "    elif model_name == 'Random Forrest':\n",
    "        model = RandomForestRegressor(max_depth=5, n_estimators=500, max_features=0.7)\n",
    "        model.fit(X_train, y_train)\n",
    "        y_pred = model.predict(X_val)\n",
    "        \n",
    "        RMSE = np.sqrt(mean_squared_error(y_val, y_pred))\n",
    "        print(f'{model} model gives a RMSE of {RMSE} with {len(X_train)} training data points')\n",
    "    \n",
    "    return model, RMSE\n",
    "        "
   ]
  },
  {
   "cell_type": "code",
   "execution_count": 27,
   "id": "18ec919d-b66c-409a-96fe-aa661b00f5ce",
   "metadata": {},
   "outputs": [
    {
     "name": "stdout",
     "output_type": "stream",
     "text": [
      "LinearRegression(normalize=True) model gives a RMSE of 406.36648184695713 with 95792 training data points\n",
      "Ridge(alpha=0.5, normalize=True) model gives a RMSE of 443.66622667172413 with 95792 training data points\n",
      "Lasso(alpha=0.1, max_iter=5000, normalize=True) model gives a RMSE of 414.57414666000426 with 95792 training data points\n",
      "XGBRegressor(base_score=0.5, booster='gbtree', callbacks=None,\n",
      "             colsample_bylevel=1, colsample_bynode=1, colsample_bytree=1,\n",
      "             early_stopping_rounds=None, enable_categorical=False,\n",
      "             eval_metric=None, gamma=0, gpu_id=-1, grow_policy='depthwise',\n",
      "             importance_type=None, interaction_constraints='',\n",
      "             learning_rate=0.05, max_bin=256, max_cat_to_onehot=4,\n",
      "             max_delta_step=0, max_depth=9, max_leaves=0, min_child_weight=1,\n",
      "             missing=nan, monotone_constraints='()', n_estimators=500, n_jobs=0,\n",
      "             num_parallel_tree=1, predictor='auto', random_state=0, reg_alpha=0,\n",
      "             reg_lambda=0.5, ...) model gives a RMSE of 302.0866009751037 with 95792 training data points\n",
      "RandomForestRegressor(max_depth=5, max_features=0.7, n_estimators=500) model gives a RMSE of 371.8296752517406 with 95792 training data points\n"
     ]
    }
   ],
   "source": [
    "model_list = ['Linear regression', 'Ridge regression', 'Lasso regression', 'XGB regression', 'Random Forrest']\n",
    "\n",
    "results = []\n",
    "\n",
    "for model_name in model_list:\n",
    "    results.append(travel_time_regression(X_train, X_val, y_train, y_val, model_name))\n",
    "    \n"
   ]
  },
  {
   "cell_type": "markdown",
   "id": "23973978-c19a-4024-b419-12f91f7e3199",
   "metadata": {},
   "source": [
    "#### Looks like without much tuning the XGB Regressor gives the best performance with a RMSE of prediction of only 304 secs on the validatiuon data!\n",
    "#### Now I will explore Hyperparameter tuning for XGB Regressor specificly and see if I can improve its performance further."
   ]
  },
  {
   "cell_type": "code",
   "execution_count": 28,
   "id": "f16c83f0-017c-4444-a147-ca1e2887a444",
   "metadata": {},
   "outputs": [],
   "source": [
    "SKIP_HP_TUNING = True"
   ]
  },
  {
   "cell_type": "markdown",
   "id": "90c48682-c20d-450a-8349-041498fce69c",
   "metadata": {},
   "source": [
    "#### XGB Regressor Hyperparameter tuning"
   ]
  },
  {
   "cell_type": "code",
   "execution_count": 29,
   "id": "29304efa-2710-43bd-bf22-1f6846d584ca",
   "metadata": {},
   "outputs": [],
   "source": [
    "if not SKIP_HP_TUNING:\n",
    "    hp= {\n",
    "        'max_depth': [7, 9, 11, 13],\n",
    "        'learning_rate': [0.01, 0.05, 0.1],\n",
    "        'n_estimators': [500, 1000]\n",
    "    }\n",
    "\n",
    "    def XGB_regression_hp_tuning(X_train, X_val, y_train, y_val, hp):\n",
    "        for max_depth in hp['max_depth']:\n",
    "            for learning_rate in hp['learning_rate']:\n",
    "                for n_estimators in hp['n_estimators']:\n",
    "                    model = XGBRegressor(max_depth=max_depth, learning_rate=learning_rate, n_estimators=n_estimators, reg_lambda=0.5)\n",
    "                    model.fit(X_train, y_train)\n",
    "                    y_pred = model.predict(X_val)\n",
    "                    RMSE = np.sqrt(mean_squared_error(y_val, y_pred))\n",
    "                    print(f'XGB regressor with max_depth: {max_depth}, learning_rate: {learning_rate}, n_estimators: {n_estimators} gives a RMSE of {RMSE} with {len(X_train)} training data points')\n",
    "\n",
    "    XGB_regression_hp_tuning(X_train, X_val, y_train, y_val, hp)"
   ]
  },
  {
   "cell_type": "markdown",
   "id": "bae8ec01-fc34-4f08-b33b-388570ec99b2",
   "metadata": {},
   "source": [
    "#### Looks like max_depth: 9, learning_rate: 0.05, n_estimators: 1000 gives the best performance on the validation data with a RMSE of 303 secs"
   ]
  },
  {
   "cell_type": "markdown",
   "id": "e2bea9d1-a44b-4d7e-927d-f296bbf0138b",
   "metadata": {},
   "source": [
    "### Step 4: Final Model Training and Prediction"
   ]
  },
  {
   "cell_type": "code",
   "execution_count": 32,
   "id": "b06b59ef-cd8c-47e8-a278-5802bbde89d9",
   "metadata": {},
   "outputs": [],
   "source": [
    "## Preprocess test data\n",
    "\n",
    "test_df = combined[1]\n",
    "#test_df.head()\n",
    "\n",
    "test_df = create_location_cluster_features(test_df, cluster_centers)\n",
    "test_df = add_weather_features(test_df)\n",
    "\n",
    "#### Final test_df\n",
    "test_df.head()"
   ]
  },
  {
   "cell_type": "code",
   "execution_count": 33,
   "id": "7a02f79e-690d-48d1-9241-f2389815b876",
   "metadata": {},
   "outputs": [],
   "source": [
    "row_id = test_df['row_id']\n",
    "test_df = test_df.drop(['row_id', 'start_date'], axis=1)"
   ]
  },
  {
   "cell_type": "code",
   "execution_count": 34,
   "id": "50c21e47-8406-40d5-b3e3-ee6d24422e48",
   "metadata": {},
   "outputs": [],
   "source": [
    "xgb_final = XGBRegressor(max_depth=9, learning_rate=0.05, n_estimators=1000, reg_lambda=0.5)\n",
    "xgb_final.fit(X, y)\n",
    "pred_test = xgb_final.predict(test_df)"
   ]
  },
  {
   "cell_type": "code",
   "execution_count": 35,
   "id": "43e8ec11-e12b-482e-9de4-1c4347aa7c0e",
   "metadata": {},
   "outputs": [],
   "source": [
    "pred_duration = pd.DataFrame({'row_id': row_id, 'duration': pred_test})\n",
    "pred_duration.to_csv(\"duration.csv\", index=False)"
   ]
  },
  {
   "cell_type": "code",
   "execution_count": null,
   "id": "78a6d8c6-8359-40e4-b318-79216f9ab73a",
   "metadata": {},
   "outputs": [],
   "source": []
  },
  {
   "cell_type": "code",
   "execution_count": null,
   "id": "48b22573-af25-472c-abab-036f873fcdf8",
   "metadata": {},
   "outputs": [],
   "source": []
  }
 ],
 "metadata": {
  "kernelspec": {
   "display_name": "Python 3 (ipykernel)",
   "language": "python",
   "name": "python3"
  },
  "language_info": {
   "codemirror_mode": {
    "name": "ipython",
    "version": 3
   },
   "file_extension": ".py",
   "mimetype": "text/x-python",
   "name": "python",
   "nbconvert_exporter": "python",
   "pygments_lexer": "ipython3",
   "version": "3.10.4"
  }
 },
 "nbformat": 4,
 "nbformat_minor": 5
}
